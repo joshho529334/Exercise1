{
 "cells": [
  {
   "cell_type": "code",
   "execution_count": 1,
   "id": "80af53c9-7cc2-4fe6-b37f-d34622d8dd03",
   "metadata": {
    "tags": []
   },
   "outputs": [],
   "source": [
    "ice_cream_rating=7.0\n",
    "sleeping_rating=10.0"
   ]
  },
  {
   "cell_type": "code",
   "execution_count": 19,
   "id": "830c4dd5-c9cc-4517-b516-fbc7f688d321",
   "metadata": {
    "tags": []
   },
   "outputs": [],
   "source": [
    "first_name='Joshua'\n",
    "Last_name=' Ho'\n"
   ]
  },
  {
   "cell_type": "code",
   "execution_count": 23,
   "id": "292855a5-a324-496e-a0be-380b826088ce",
   "metadata": {
    "tags": []
   },
   "outputs": [],
   "source": [
    "myname= first_name+Last_name"
   ]
  },
  {
   "cell_type": "code",
   "execution_count": 21,
   "id": "3bfd74da-9de1-4c40-bc72-76b6d7bffb56",
   "metadata": {
    "tags": []
   },
   "outputs": [
    {
     "name": "stdout",
     "output_type": "stream",
     "text": [
      "Joshua Ho\n"
     ]
    }
   ],
   "source": [
    "print(myname)"
   ]
  },
  {
   "cell_type": "code",
   "execution_count": 26,
   "id": "e37bfe76-66c6-423b-a26c-52c2298d9468",
   "metadata": {
    "tags": []
   },
   "outputs": [],
   "source": [
    "happiness_rating=((ice_cream_rating+sleeping_rating)/2)"
   ]
  },
  {
   "cell_type": "code",
   "execution_count": 27,
   "id": "f571ada7-8355-48eb-a7c6-aaed410297ad",
   "metadata": {
    "tags": []
   },
   "outputs": [
    {
     "data": {
      "text/plain": [
       "float"
      ]
     },
     "execution_count": 27,
     "metadata": {},
     "output_type": "execute_result"
    }
   ],
   "source": [
    "type(happiness_rating)"
   ]
  },
  {
   "cell_type": "code",
   "execution_count": 28,
   "id": "e467c936-9fd9-4fb3-95f3-548423ff6077",
   "metadata": {
    "tags": []
   },
   "outputs": [],
   "source": [
    "#No not really, i exoected a float data type since i'm using two decimal values and doing operations so it makes sense for me to get  a float value output."
   ]
  },
  {
   "cell_type": "code",
   "execution_count": 39,
   "id": "9d883a5a-c0fb-49ba-9f3a-2edd0f5fc845",
   "metadata": {
    "tags": []
   },
   "outputs": [
    {
     "name": "stdout",
     "output_type": "stream",
     "text": [
      "My name is Joshua I give eating ice cream a score of 7.0 out of 10!I am Joshua Ho\n"
     ]
    }
   ],
   "source": [
    "print(\"My name is\",first_name,\"I give eating ice cream a score of\", ice_cream_rating ,\"out of 10!\"\n",
    "      \"I am\", myname)\n"
   ]
  },
  {
   "cell_type": "code",
   "execution_count": null,
   "id": "f2fb6bd2-3017-420d-b631-2fe46a941192",
   "metadata": {},
   "outputs": [],
   "source": []
  }
 ],
 "metadata": {
  "kernelspec": {
   "display_name": "Python 3 (ipykernel)",
   "language": "python",
   "name": "python3"
  },
  "language_info": {
   "codemirror_mode": {
    "name": "ipython",
    "version": 3
   },
   "file_extension": ".py",
   "mimetype": "text/x-python",
   "name": "python",
   "nbconvert_exporter": "python",
   "pygments_lexer": "ipython3",
   "version": "3.10.11"
  }
 },
 "nbformat": 4,
 "nbformat_minor": 5
}
